{
 "cells": [
  {
   "cell_type": "markdown",
   "id": "3731b950",
   "metadata": {},
   "source": [
    "# COVID-Vaccines how much 1% matters?\n",
    "\n",
    "This is the companion notebook to the blog post []()."
   ]
  },
  {
   "cell_type": "code",
   "execution_count": 1,
   "id": "29b3e13e",
   "metadata": {},
   "outputs": [],
   "source": [
    "import os\n",
    "\n",
    "from sklearn import datasets, linear_model\n",
    "from sklearn.metrics import mean_squared_error, r2_score\n",
    "import matplotlib.pyplot as plt\n",
    "import numpy as np\n",
    "import pandas as pd\n",
    "import scipy.stats as stats\n",
    "import seaborn as sns\n",
    "import statsmodels.api as sm"
   ]
  },
  {
   "cell_type": "markdown",
   "id": "307e5ff1",
   "metadata": {},
   "source": [
    "# Getting the Data\n",
    "\n",
    "We extracted both COVID cases data and vaccination information from the following on-line public access sources:\n",
    "\n",
    "- [Data on 14-day notification rate of new COVID-19 cases and deaths (ECDC)](https://www.ecdc.europa.eu/en/publications-data/data-national-14-day-notification-rate-covid-19)\n",
    "- [COVID-19 Vaccine Tracker (ECDC)](https://www.ecdc.europa.eu/en/publications-data/data-covid-19-vaccination-eu-eea)"
   ]
  },
  {
   "cell_type": "markdown",
   "id": "45262ccd",
   "metadata": {},
   "source": [
    "# Script configuration"
   ]
  },
  {
   "cell_type": "markdown",
   "id": "97f8ddb4",
   "metadata": {},
   "source": [
    "According to the [CDC](https://www.cdc.gov/coronavirus/2019-ncov/vaccines/fully-vaccinated.html) an operatinal definition of fully vaccinated population (FVP) is:\n",
    "\n",
    "\n",
    "<blockquote cite=\"https://www.cdc.gov/coronavirus/2019-ncov/vaccines/fully-vaccinated.html\">\n",
    "<i>\n",
    "In general, people are considered fully vaccinated:\n",
    "\n",
    "- 2 weeks after their second dose in a 2-dose series, such as the Pfizer or Moderna vaccines, or\n",
    "- 2 weeks after a single-dose vaccine, such as Johnson & Johnson’s Janssen vaccine\n",
    "</i>\n",
    "</blockquote>"
   ]
  },
  {
   "cell_type": "code",
   "execution_count": 2,
   "id": "432e6258",
   "metadata": {},
   "outputs": [],
   "source": [
    "# we are interested in the numbers for this week:\n",
    "WEEK_OF_INTEREST = \"2021-W46\"\n",
    "\n",
    "# limit week to be considered fully vaccination (see bellow)\n",
    "WEEK_FULLY_VACCINATED = \"2021-W48\""
   ]
  },
  {
   "cell_type": "markdown",
   "id": "e62a5c36",
   "metadata": {},
   "source": [
    "## ISO Codes\n",
    "\n",
    "To combine information from both files we'll also need a table with both 2 and 3-letter ISO countries code that we put togheter by copy paste from the Wikipedia."
   ]
  },
  {
   "cell_type": "code",
   "execution_count": 3,
   "id": "8cef5c24",
   "metadata": {},
   "outputs": [
    {
     "data": {
      "text/html": [
       "<div>\n",
       "<style scoped>\n",
       "    .dataframe tbody tr th:only-of-type {\n",
       "        vertical-align: middle;\n",
       "    }\n",
       "\n",
       "    .dataframe tbody tr th {\n",
       "        vertical-align: top;\n",
       "    }\n",
       "\n",
       "    .dataframe thead th {\n",
       "        text-align: right;\n",
       "    }\n",
       "</style>\n",
       "<table border=\"1\" class=\"dataframe\">\n",
       "  <thead>\n",
       "    <tr style=\"text-align: right;\">\n",
       "      <th></th>\n",
       "      <th>code2</th>\n",
       "      <th>code3</th>\n",
       "    </tr>\n",
       "  </thead>\n",
       "  <tbody>\n",
       "    <tr>\n",
       "      <th>0</th>\n",
       "      <td>AF</td>\n",
       "      <td>AFG</td>\n",
       "    </tr>\n",
       "    <tr>\n",
       "      <th>1</th>\n",
       "      <td>AX</td>\n",
       "      <td>ALA</td>\n",
       "    </tr>\n",
       "    <tr>\n",
       "      <th>2</th>\n",
       "      <td>AL</td>\n",
       "      <td>ALB</td>\n",
       "    </tr>\n",
       "    <tr>\n",
       "      <th>3</th>\n",
       "      <td>DZ</td>\n",
       "      <td>DZA</td>\n",
       "    </tr>\n",
       "    <tr>\n",
       "      <th>4</th>\n",
       "      <td>AS</td>\n",
       "      <td>ASM</td>\n",
       "    </tr>\n",
       "  </tbody>\n",
       "</table>\n",
       "</div>"
      ],
      "text/plain": [
       "  code2 code3\n",
       "0    AF   AFG\n",
       "1    AX   ALA\n",
       "2    AL   ALB\n",
       "3    DZ   DZA\n",
       "4    AS   ASM"
      ]
     },
     "execution_count": 3,
     "metadata": {},
     "output_type": "execute_result"
    }
   ],
   "source": [
    "codes = pd.read_csv(\"../../../data/iso-codes.csv\")\n",
    "\n",
    "codes.head(5)"
   ]
  },
  {
   "cell_type": "markdown",
   "id": "c2319325",
   "metadata": {},
   "source": [
    "## Vaccination Data"
   ]
  },
  {
   "cell_type": "code",
   "execution_count": 4,
   "id": "63ac4082",
   "metadata": {},
   "outputs": [
    {
     "data": {
      "text/html": [
       "<div>\n",
       "<style scoped>\n",
       "    .dataframe tbody tr th:only-of-type {\n",
       "        vertical-align: middle;\n",
       "    }\n",
       "\n",
       "    .dataframe tbody tr th {\n",
       "        vertical-align: top;\n",
       "    }\n",
       "\n",
       "    .dataframe thead th {\n",
       "        text-align: right;\n",
       "    }\n",
       "</style>\n",
       "<table border=\"1\" class=\"dataframe\">\n",
       "  <thead>\n",
       "    <tr style=\"text-align: right;\">\n",
       "      <th></th>\n",
       "      <th>YearWeekISO</th>\n",
       "      <th>ReportingCountry</th>\n",
       "      <th>Denominator</th>\n",
       "      <th>NumberDosesReceived</th>\n",
       "      <th>NumberDosesExported</th>\n",
       "      <th>FirstDose</th>\n",
       "      <th>FirstDoseRefused</th>\n",
       "      <th>SecondDose</th>\n",
       "      <th>DoseAdditional1</th>\n",
       "      <th>UnknownDose</th>\n",
       "      <th>Region</th>\n",
       "      <th>TargetGroup</th>\n",
       "      <th>Vaccine</th>\n",
       "      <th>Population</th>\n",
       "    </tr>\n",
       "  </thead>\n",
       "  <tbody>\n",
       "    <tr>\n",
       "      <th>0</th>\n",
       "      <td>2020-W53</td>\n",
       "      <td>AT</td>\n",
       "      <td>8901064.0</td>\n",
       "      <td>0.0</td>\n",
       "      <td>0.0</td>\n",
       "      <td>0</td>\n",
       "      <td>NaN</td>\n",
       "      <td>0</td>\n",
       "      <td>0</td>\n",
       "      <td>0</td>\n",
       "      <td>AT</td>\n",
       "      <td>ALL</td>\n",
       "      <td>UNK</td>\n",
       "      <td>8901064</td>\n",
       "    </tr>\n",
       "    <tr>\n",
       "      <th>1</th>\n",
       "      <td>2020-W53</td>\n",
       "      <td>AT</td>\n",
       "      <td>8901064.0</td>\n",
       "      <td>61425.0</td>\n",
       "      <td>0.0</td>\n",
       "      <td>5216</td>\n",
       "      <td>NaN</td>\n",
       "      <td>0</td>\n",
       "      <td>0</td>\n",
       "      <td>0</td>\n",
       "      <td>AT</td>\n",
       "      <td>ALL</td>\n",
       "      <td>COM</td>\n",
       "      <td>8901064</td>\n",
       "    </tr>\n",
       "    <tr>\n",
       "      <th>2</th>\n",
       "      <td>2020-W53</td>\n",
       "      <td>AT</td>\n",
       "      <td>8901064.0</td>\n",
       "      <td>0.0</td>\n",
       "      <td>0.0</td>\n",
       "      <td>0</td>\n",
       "      <td>NaN</td>\n",
       "      <td>0</td>\n",
       "      <td>0</td>\n",
       "      <td>0</td>\n",
       "      <td>AT</td>\n",
       "      <td>ALL</td>\n",
       "      <td>JANSS</td>\n",
       "      <td>8901064</td>\n",
       "    </tr>\n",
       "    <tr>\n",
       "      <th>3</th>\n",
       "      <td>2020-W53</td>\n",
       "      <td>AT</td>\n",
       "      <td>8901064.0</td>\n",
       "      <td>0.0</td>\n",
       "      <td>0.0</td>\n",
       "      <td>0</td>\n",
       "      <td>NaN</td>\n",
       "      <td>0</td>\n",
       "      <td>0</td>\n",
       "      <td>0</td>\n",
       "      <td>AT</td>\n",
       "      <td>ALL</td>\n",
       "      <td>AZ</td>\n",
       "      <td>8901064</td>\n",
       "    </tr>\n",
       "    <tr>\n",
       "      <th>4</th>\n",
       "      <td>2020-W53</td>\n",
       "      <td>AT</td>\n",
       "      <td>8901064.0</td>\n",
       "      <td>0.0</td>\n",
       "      <td>0.0</td>\n",
       "      <td>0</td>\n",
       "      <td>NaN</td>\n",
       "      <td>0</td>\n",
       "      <td>0</td>\n",
       "      <td>0</td>\n",
       "      <td>AT</td>\n",
       "      <td>ALL</td>\n",
       "      <td>MOD</td>\n",
       "      <td>8901064</td>\n",
       "    </tr>\n",
       "  </tbody>\n",
       "</table>\n",
       "</div>"
      ],
      "text/plain": [
       "  YearWeekISO ReportingCountry  Denominator  NumberDosesReceived  \\\n",
       "0    2020-W53               AT    8901064.0                  0.0   \n",
       "1    2020-W53               AT    8901064.0              61425.0   \n",
       "2    2020-W53               AT    8901064.0                  0.0   \n",
       "3    2020-W53               AT    8901064.0                  0.0   \n",
       "4    2020-W53               AT    8901064.0                  0.0   \n",
       "\n",
       "   NumberDosesExported  FirstDose  FirstDoseRefused  SecondDose  \\\n",
       "0                  0.0          0               NaN           0   \n",
       "1                  0.0       5216               NaN           0   \n",
       "2                  0.0          0               NaN           0   \n",
       "3                  0.0          0               NaN           0   \n",
       "4                  0.0          0               NaN           0   \n",
       "\n",
       "   DoseAdditional1  UnknownDose Region TargetGroup Vaccine  Population  \n",
       "0                0            0     AT         ALL     UNK     8901064  \n",
       "1                0            0     AT         ALL     COM     8901064  \n",
       "2                0            0     AT         ALL   JANSS     8901064  \n",
       "3                0            0     AT         ALL      AZ     8901064  \n",
       "4                0            0     AT         ALL     MOD     8901064  "
      ]
     },
     "execution_count": 4,
     "metadata": {},
     "output_type": "execute_result"
    }
   ],
   "source": [
    "vd = pd.read_csv(\"../../../data/covid/data_vaccines.csv\")\n",
    "\n",
    "vd.head(5)"
   ]
  },
  {
   "cell_type": "markdown",
   "id": "530929ed",
   "metadata": {},
   "source": [
    "## Death rates"
   ]
  },
  {
   "cell_type": "code",
   "execution_count": 5,
   "id": "8eeae784",
   "metadata": {},
   "outputs": [
    {
     "data": {
      "text/html": [
       "<div>\n",
       "<style scoped>\n",
       "    .dataframe tbody tr th:only-of-type {\n",
       "        vertical-align: middle;\n",
       "    }\n",
       "\n",
       "    .dataframe tbody tr th {\n",
       "        vertical-align: top;\n",
       "    }\n",
       "\n",
       "    .dataframe thead th {\n",
       "        text-align: right;\n",
       "    }\n",
       "</style>\n",
       "<table border=\"1\" class=\"dataframe\">\n",
       "  <thead>\n",
       "    <tr style=\"text-align: right;\">\n",
       "      <th></th>\n",
       "      <th>country</th>\n",
       "      <th>country_code</th>\n",
       "      <th>continent</th>\n",
       "      <th>population</th>\n",
       "      <th>indicator</th>\n",
       "      <th>weekly_count</th>\n",
       "      <th>year_week</th>\n",
       "      <th>rate_14_day</th>\n",
       "      <th>cumulative_count</th>\n",
       "      <th>source</th>\n",
       "    </tr>\n",
       "  </thead>\n",
       "  <tbody>\n",
       "    <tr>\n",
       "      <th>0</th>\n",
       "      <td>Afghanistan</td>\n",
       "      <td>AFG</td>\n",
       "      <td>Asia</td>\n",
       "      <td>38928341</td>\n",
       "      <td>cases</td>\n",
       "      <td>0</td>\n",
       "      <td>2020-01</td>\n",
       "      <td>NaN</td>\n",
       "      <td>0</td>\n",
       "      <td>Epidemic intelligence national data</td>\n",
       "    </tr>\n",
       "    <tr>\n",
       "      <th>1</th>\n",
       "      <td>Afghanistan</td>\n",
       "      <td>AFG</td>\n",
       "      <td>Asia</td>\n",
       "      <td>38928341</td>\n",
       "      <td>cases</td>\n",
       "      <td>0</td>\n",
       "      <td>2020-02</td>\n",
       "      <td>0.0</td>\n",
       "      <td>0</td>\n",
       "      <td>Epidemic intelligence national data</td>\n",
       "    </tr>\n",
       "    <tr>\n",
       "      <th>2</th>\n",
       "      <td>Afghanistan</td>\n",
       "      <td>AFG</td>\n",
       "      <td>Asia</td>\n",
       "      <td>38928341</td>\n",
       "      <td>cases</td>\n",
       "      <td>0</td>\n",
       "      <td>2020-03</td>\n",
       "      <td>0.0</td>\n",
       "      <td>0</td>\n",
       "      <td>Epidemic intelligence national data</td>\n",
       "    </tr>\n",
       "    <tr>\n",
       "      <th>3</th>\n",
       "      <td>Afghanistan</td>\n",
       "      <td>AFG</td>\n",
       "      <td>Asia</td>\n",
       "      <td>38928341</td>\n",
       "      <td>cases</td>\n",
       "      <td>0</td>\n",
       "      <td>2020-04</td>\n",
       "      <td>0.0</td>\n",
       "      <td>0</td>\n",
       "      <td>Epidemic intelligence national data</td>\n",
       "    </tr>\n",
       "    <tr>\n",
       "      <th>4</th>\n",
       "      <td>Afghanistan</td>\n",
       "      <td>AFG</td>\n",
       "      <td>Asia</td>\n",
       "      <td>38928341</td>\n",
       "      <td>cases</td>\n",
       "      <td>0</td>\n",
       "      <td>2020-05</td>\n",
       "      <td>0.0</td>\n",
       "      <td>0</td>\n",
       "      <td>Epidemic intelligence national data</td>\n",
       "    </tr>\n",
       "  </tbody>\n",
       "</table>\n",
       "</div>"
      ],
      "text/plain": [
       "       country country_code continent  population indicator  weekly_count  \\\n",
       "0  Afghanistan          AFG      Asia    38928341     cases             0   \n",
       "1  Afghanistan          AFG      Asia    38928341     cases             0   \n",
       "2  Afghanistan          AFG      Asia    38928341     cases             0   \n",
       "3  Afghanistan          AFG      Asia    38928341     cases             0   \n",
       "4  Afghanistan          AFG      Asia    38928341     cases             0   \n",
       "\n",
       "  year_week  rate_14_day  cumulative_count  \\\n",
       "0   2020-01          NaN                 0   \n",
       "1   2020-02          0.0                 0   \n",
       "2   2020-03          0.0                 0   \n",
       "3   2020-04          0.0                 0   \n",
       "4   2020-05          0.0                 0   \n",
       "\n",
       "                                source  \n",
       "0  Epidemic intelligence national data  \n",
       "1  Epidemic intelligence national data  \n",
       "2  Epidemic intelligence national data  \n",
       "3  Epidemic intelligence national data  \n",
       "4  Epidemic intelligence national data  "
      ]
     },
     "execution_count": 5,
     "metadata": {},
     "output_type": "execute_result"
    }
   ],
   "source": [
    "dd = pd.read_csv(\"../../../data/covid/data_cases.csv\")\n",
    "\n",
    "dd.head(5)"
   ]
  },
  {
   "cell_type": "markdown",
   "id": "9e83e3b9",
   "metadata": {},
   "source": [
    "# Cleaning and Enriching"
   ]
  },
  {
   "cell_type": "code",
   "execution_count": 6,
   "id": "1f532b50",
   "metadata": {},
   "outputs": [],
   "source": [
    "# convert the week format to the ISO format\n",
    "dd['year_week'] = dd['year_week'].str.replace(\"-\", \"-W\")"
   ]
  },
  {
   "cell_type": "markdown",
   "id": "d851a841",
   "metadata": {},
   "source": [
    "#  Data Analysis\n",
    "\n",
    "## Data Preparation\n",
    "\n",
    "The original data provides the weekly count of 1st, 2nd and extra doses receive. The number of doses is broken down by age group and country region.\n",
    "\n",
    "Notice that in this analysis we consider the whole population and not only adults."
   ]
  },
  {
   "cell_type": "code",
   "execution_count": 7,
   "id": "ebe594fc",
   "metadata": {},
   "outputs": [],
   "source": [
    "# select the rows 2 weeks before the week of interest\n",
    "ndx0 = vd['YearWeekISO'] <= WEEK_FULLY_VACCINATED\n",
    "\n",
    "# select the rows with the target group corresponding to the whole population \n",
    "ndx1 = (vd['TargetGroup'] == 'ALL')\n",
    "\n",
    "# select the rows with the target group corresponding to the whole population \n",
    "ndx1 = (vd['TargetGroup'] == 'ALL')\n",
    "\n",
    "# select the rows with the numbers for the whole country\n",
    "ndx2 = (vd['ReportingCountry'] == vd['Region'])\n",
    "\n",
    "# select the rows corresponding to the Janssens vaccine\n",
    "ndx3 = (vd['Vaccine'] == \"JANSS\")"
   ]
  },
  {
   "cell_type": "code",
   "execution_count": 8,
   "id": "9b4aa200",
   "metadata": {},
   "outputs": [],
   "source": [
    "# sum of 2nd doses for all vaccines\n",
    "vd1 = vd[ndx0 & ndx1 & ndx2][['ReportingCountry', 'SecondDose']]\n",
    "g1 = vd1.groupby('ReportingCountry').sum()\n",
    "\n",
    "# sum of 1st doses all vaccines\n",
    "vd2 = vd[ndx0 & ndx1 & ndx2 & ndx3][['ReportingCountry', 'FirstDose']]\n",
    "g2 = vd2.groupby('ReportingCountry').sum()\n",
    "\n",
    "# get the population for each country\n",
    "vd3 = vd[ndx0 & ndx1 & ndx2][['ReportingCountry', 'Population']]\n",
    "g3 = vd3.groupby('ReportingCountry').max()"
   ]
  },
  {
   "cell_type": "code",
   "execution_count": 9,
   "id": "491bf6e0",
   "metadata": {},
   "outputs": [],
   "source": [
    "# merges both 1st dose and 2nd dose Janssens in the same data frame\n",
    "m1 = pd.merge(g1, g2, how=\"inner\", on=\"ReportingCountry\")\n",
    "\n",
    "# adds the population columns\n",
    "m2 = pd.merge(m1, g3, how=\"inner\", on=\"ReportingCountry\")"
   ]
  },
  {
   "cell_type": "code",
   "execution_count": 10,
   "id": "06caec0b",
   "metadata": {},
   "outputs": [],
   "source": [
    "# computes the proportion of fully vaccinated people\n",
    "m2['vac'] = (m2['FirstDose'] + m2['SecondDose']) / m2['Population']"
   ]
  },
  {
   "cell_type": "code",
   "execution_count": 11,
   "id": "149118df",
   "metadata": {},
   "outputs": [
    {
     "data": {
      "text/html": [
       "<div>\n",
       "<style scoped>\n",
       "    .dataframe tbody tr th:only-of-type {\n",
       "        vertical-align: middle;\n",
       "    }\n",
       "\n",
       "    .dataframe tbody tr th {\n",
       "        vertical-align: top;\n",
       "    }\n",
       "\n",
       "    .dataframe thead th {\n",
       "        text-align: right;\n",
       "    }\n",
       "</style>\n",
       "<table border=\"1\" class=\"dataframe\">\n",
       "  <thead>\n",
       "    <tr style=\"text-align: right;\">\n",
       "      <th></th>\n",
       "      <th>SecondDose</th>\n",
       "      <th>FirstDose</th>\n",
       "      <th>Population</th>\n",
       "      <th>vac</th>\n",
       "    </tr>\n",
       "    <tr>\n",
       "      <th>ReportingCountry</th>\n",
       "      <th></th>\n",
       "      <th></th>\n",
       "      <th></th>\n",
       "      <th></th>\n",
       "    </tr>\n",
       "  </thead>\n",
       "  <tbody>\n",
       "    <tr>\n",
       "      <th>AT</th>\n",
       "      <td>5298635</td>\n",
       "      <td>338724</td>\n",
       "      <td>8901064</td>\n",
       "      <td>0.633335</td>\n",
       "    </tr>\n",
       "    <tr>\n",
       "      <th>BE</th>\n",
       "      <td>7632530</td>\n",
       "      <td>408445</td>\n",
       "      <td>11522440</td>\n",
       "      <td>0.697853</td>\n",
       "    </tr>\n",
       "    <tr>\n",
       "      <th>BG</th>\n",
       "      <td>1355036</td>\n",
       "      <td>429498</td>\n",
       "      <td>6951482</td>\n",
       "      <td>0.256713</td>\n",
       "    </tr>\n",
       "    <tr>\n",
       "      <th>CY</th>\n",
       "      <td>559972</td>\n",
       "      <td>21678</td>\n",
       "      <td>888005</td>\n",
       "      <td>0.655008</td>\n",
       "    </tr>\n",
       "    <tr>\n",
       "      <th>CZ</th>\n",
       "      <td>5711764</td>\n",
       "      <td>388551</td>\n",
       "      <td>10693939</td>\n",
       "      <td>0.570446</td>\n",
       "    </tr>\n",
       "  </tbody>\n",
       "</table>\n",
       "</div>"
      ],
      "text/plain": [
       "                  SecondDose  FirstDose  Population       vac\n",
       "ReportingCountry                                             \n",
       "AT                   5298635     338724     8901064  0.633335\n",
       "BE                   7632530     408445    11522440  0.697853\n",
       "BG                   1355036     429498     6951482  0.256713\n",
       "CY                    559972      21678      888005  0.655008\n",
       "CZ                   5711764     388551    10693939  0.570446"
      ]
     },
     "execution_count": 11,
     "metadata": {},
     "output_type": "execute_result"
    }
   ],
   "source": [
    "m2.head()"
   ]
  },
  {
   "cell_type": "code",
   "execution_count": 12,
   "id": "83e92e41",
   "metadata": {},
   "outputs": [],
   "source": [
    "# add the 2-letter coutnry code to the data\n",
    "dd1 = pd.merge(dd, codes, how=\"inner\", left_on='country_code', right_on=\"code3\")"
   ]
  },
  {
   "cell_type": "code",
   "execution_count": 13,
   "id": "0fe3c3ec",
   "metadata": {},
   "outputs": [],
   "source": [
    "# gets the 14 days death rates for the week of interest\n",
    "ndx1 = (dd1['year_week'] == WEEK_OF_INTEREST)\n",
    "ndx2 = (dd1['indicator'] == \"deaths\")\n",
    "\n",
    "dd2 = dd1[ndx1 & ndx2][['code2', 'rate_14_day']]"
   ]
  },
  {
   "cell_type": "code",
   "execution_count": 14,
   "id": "8e791706",
   "metadata": {},
   "outputs": [],
   "source": [
    "# sdd the death rate as a column to the previous data set \n",
    "m3 = pd.merge(m2, dd2, how=\"inner\", left_on='ReportingCountry', right_on='code2')"
   ]
  },
  {
   "cell_type": "code",
   "execution_count": 15,
   "id": "e06c72b5",
   "metadata": {},
   "outputs": [],
   "source": [
    "# selects only the columns of interest\n",
    "data = m3[['code2', 'vac', 'rate_14_day', 'Population']]\n",
    "data.columns = ['country', 'vac', 'death', 'pop']"
   ]
  },
  {
   "cell_type": "code",
   "execution_count": 16,
   "id": "2c51e1a6",
   "metadata": {},
   "outputs": [
    {
     "data": {
      "text/html": [
       "<div>\n",
       "<style scoped>\n",
       "    .dataframe tbody tr th:only-of-type {\n",
       "        vertical-align: middle;\n",
       "    }\n",
       "\n",
       "    .dataframe tbody tr th {\n",
       "        vertical-align: top;\n",
       "    }\n",
       "\n",
       "    .dataframe thead th {\n",
       "        text-align: right;\n",
       "    }\n",
       "</style>\n",
       "<table border=\"1\" class=\"dataframe\">\n",
       "  <thead>\n",
       "    <tr style=\"text-align: right;\">\n",
       "      <th></th>\n",
       "      <th>country</th>\n",
       "      <th>vac</th>\n",
       "      <th>death</th>\n",
       "      <th>pop</th>\n",
       "    </tr>\n",
       "  </thead>\n",
       "  <tbody>\n",
       "    <tr>\n",
       "      <th>0</th>\n",
       "      <td>AT</td>\n",
       "      <td>0.633335</td>\n",
       "      <td>55.049599</td>\n",
       "      <td>8901064</td>\n",
       "    </tr>\n",
       "    <tr>\n",
       "      <th>1</th>\n",
       "      <td>BE</td>\n",
       "      <td>0.697853</td>\n",
       "      <td>39.922100</td>\n",
       "      <td>11522440</td>\n",
       "    </tr>\n",
       "    <tr>\n",
       "      <th>2</th>\n",
       "      <td>BG</td>\n",
       "      <td>0.256713</td>\n",
       "      <td>312.882922</td>\n",
       "      <td>6951482</td>\n",
       "    </tr>\n",
       "    <tr>\n",
       "      <th>3</th>\n",
       "      <td>CY</td>\n",
       "      <td>0.655008</td>\n",
       "      <td>4.504479</td>\n",
       "      <td>888005</td>\n",
       "    </tr>\n",
       "    <tr>\n",
       "      <th>4</th>\n",
       "      <td>CZ</td>\n",
       "      <td>0.570446</td>\n",
       "      <td>105.667332</td>\n",
       "      <td>10693939</td>\n",
       "    </tr>\n",
       "  </tbody>\n",
       "</table>\n",
       "</div>"
      ],
      "text/plain": [
       "  country       vac       death       pop\n",
       "0      AT  0.633335   55.049599   8901064\n",
       "1      BE  0.697853   39.922100  11522440\n",
       "2      BG  0.256713  312.882922   6951482\n",
       "3      CY  0.655008    4.504479    888005\n",
       "4      CZ  0.570446  105.667332  10693939"
      ]
     },
     "execution_count": 16,
     "metadata": {},
     "output_type": "execute_result"
    }
   ],
   "source": [
    "data.head()"
   ]
  },
  {
   "cell_type": "markdown",
   "id": "7f22c804",
   "metadata": {},
   "source": [
    "## Reproducing the Original Chart\n",
    "\n",
    "First of all we want to reproduce the original chart on Twitter."
   ]
  },
  {
   "cell_type": "code",
   "execution_count": 17,
   "id": "3d7d4514",
   "metadata": {},
   "outputs": [],
   "source": [
    "data = data.sort_values('vac')"
   ]
  },
  {
   "cell_type": "code",
   "execution_count": 18,
   "id": "6dbd54cb",
   "metadata": {},
   "outputs": [
    {
     "data": {
      "image/png": "[encoded data removed]",
      "text/plain": [
       "<Figure size 720x360 with 2 Axes>"
      ]
     },
     "metadata": {
      "needs_background": "light"
     },
     "output_type": "display_data"
    }
   ],
   "source": [
    "fig, axes = plt.subplots(figsize=(10,5), ncols=2, sharey=True)\n",
    "\n",
    "axes[0].barh(data['country'], data['vac'], align='center', color=\"r\")\n",
    "axes[0].set_title(\"% of fully vaccinated pop.\", fontsize=16, pad=15)\n",
    "axes[1].barh(data['country'], data['death'], align='center', color=\"b\")\n",
    "axes[1].set_title(\"Deaths per 1M people (14d avg.)\", fontsize=16, pad=15)\n",
    "\n",
    "axes[0].invert_xaxis() \n",
    "\n",
    "plt.savefig(\"../../images/covid_vaccination/covid_vaccination-fig_1.png\")"
   ]
  },
  {
   "cell_type": "markdown",
   "id": "321bbf60",
   "metadata": {},
   "source": [
    "A quick inspection of the chart reveals an overall agreement with the original chart.\n",
    "\n",
    "Note that the % of FVP is lower as we consider the whole population and not only the adult one."
   ]
  },
  {
   "cell_type": "markdown",
   "id": "7391f129",
   "metadata": {},
   "source": [
    "## Quantifying the correlation between _PFV_ vs _Death rate_\n",
    "\n",
    "Now we want to plot FVP against death rate to investigate the possible correlation between those two quantities."
   ]
  },
  {
   "cell_type": "code",
   "execution_count": 19,
   "id": "2ca8840a",
   "metadata": {},
   "outputs": [],
   "source": [
    "def plot_chart(data, line=None, fname=None):\n",
    "    fig, ax = plt.subplots()\n",
    "\n",
    "    ax.set_xlabel('Percentage of vaccinated population')\n",
    "    ax.set_ylabel('Deaths per 100000 people\\n(14 days average)')\n",
    "    ax.legend()\n",
    "\n",
    "    sns.scatterplot(x='vac', y='death', data=data, ax=ax)\n",
    "    \n",
    "    for _, row in data.iterrows():\n",
    "        ax.text(row['vac'] - 0.03, row['death'] + 0.1, row['country'])\n",
    "\n",
    "    if line is not None:\n",
    "        sns.lineplot(x='x', y='y', data=line)\n",
    "        \n",
    "    fig.set_size_inches(8, 6)\n",
    "    \n",
    "    plt.title(\"EU Countries\")\n",
    "\n",
    "    if fname:\n",
    "        plt.savefig(os.path.join(\"../../images/covid_vaccination\", fname))\n",
    "        \n",
    "    plt.show()\n",
    "    \n"
   ]
  },
  {
   "cell_type": "code",
   "execution_count": 20,
   "id": "2e217f6d",
   "metadata": {},
   "outputs": [
    {
     "name": "stderr",
     "output_type": "stream",
     "text": [
      "No handles with labels found to put in legend.\n"
     ]
    },
    {
     "data": {
      "image/png": "[encoded data removed]",
      "text/plain": [
       "<Figure size 576x432 with 1 Axes>"
      ]
     },
     "metadata": {
      "needs_background": "light"
     },
     "output_type": "display_data"
    }
   ],
   "source": [
    "plot_chart(data)"
   ]
  },
  {
   "cell_type": "markdown",
   "id": "50ae55ee",
   "metadata": {},
   "source": [
    "Lets compute and visualize the linear regression (LR) between the two variables to quantify the suspected correlation:"
   ]
  },
  {
   "cell_type": "code",
   "execution_count": 21,
   "id": "f73b5972",
   "metadata": {},
   "outputs": [],
   "source": [
    "# get the variables in the right shape\n",
    "X = np.array(data['vac']).reshape(-1, 1)\n",
    "Y = np.array(data['death']).reshape(-1, 1)\n",
    "\n",
    "X2 = sm.add_constant(X)\n",
    "est = sm.OLS(Y, X2)\n",
    "est2 = est.fit()"
   ]
  },
  {
   "cell_type": "code",
   "execution_count": 22,
   "id": "fc11c61b",
   "metadata": {},
   "outputs": [],
   "source": [
    "(b, m) = est2.params"
   ]
  },
  {
   "cell_type": "code",
   "execution_count": 23,
   "id": "a239ff44",
   "metadata": {},
   "outputs": [
    {
     "name": "stdout",
     "output_type": "stream",
     "text": [
      "Intercept: 420.16\n",
      "Slope:     -570.33\n"
     ]
    }
   ],
   "source": [
    "print(\"Intercept: %.2f\" % b)\n",
    "print(\"Slope:     %.2f\" % m)"
   ]
  },
  {
   "cell_type": "code",
   "execution_count": 24,
   "id": "aea08025",
   "metadata": {},
   "outputs": [
    {
     "name": "stderr",
     "output_type": "stream",
     "text": [
      "No handles with labels found to put in legend.\n"
     ]
    },
    {
     "data": {
      "image/png": "[encoded data removed]",
      "text/plain": [
       "<Figure size 576x432 with 1 Axes>"
      ]
     },
     "metadata": {
      "needs_background": "light"
     },
     "output_type": "display_data"
    }
   ],
   "source": [
    "# make prediction for the full domain of the X variable\n",
    "XX = np.linspace(0.2, 0.8, 10).reshape(-1, 1)\n",
    "YY_pred = XX * m + b\n",
    "\n",
    "line = pd.DataFrame({'x': XX[:,0], 'y': YY_pred[:, 0]})\n",
    "\n",
    "plot_chart(data, line, fname=\"covid_vaccination-fig_2.png\")"
   ]
  },
  {
   "cell_type": "markdown",
   "id": "864c2fc7",
   "metadata": {},
   "source": [
    "## Significance of the Result"
   ]
  },
  {
   "cell_type": "markdown",
   "id": "56f2bc3c",
   "metadata": {},
   "source": [
    "The LR negative slope is consistent with our first guess fromt the original Twitter chart of a obvious decrease in deaths with vaccination increase.\n",
    "\n",
    "\n",
    "Before jumping into conclusions we should take a closer look on the LR results staring with the summary of the parameters and some statistical tests:"
   ]
  },
  {
   "cell_type": "code",
   "execution_count": 25,
   "id": "1a3e25d8",
   "metadata": {},
   "outputs": [
    {
     "name": "stdout",
     "output_type": "stream",
     "text": [
      "                            OLS Regression Results                            \n",
      "==============================================================================\n",
      "Dep. Variable:                      y   R-squared:                       0.690\n",
      "Model:                            OLS   Adj. R-squared:                  0.678\n",
      "Method:                 Least Squares   F-statistic:                     57.82\n",
      "Date:                Wed, 08 Dec 2021   Prob (F-statistic):           4.52e-08\n",
      "Time:                        16:28:18   Log-Likelihood:                -146.61\n",
      "No. Observations:                  28   AIC:                             297.2\n",
      "Df Residuals:                      26   BIC:                             299.9\n",
      "Df Model:                           1                                         \n",
      "Covariance Type:            nonrobust                                         \n",
      "==============================================================================\n",
      "                 coef    std err          t      P>|t|      [0.025      0.975]\n",
      "------------------------------------------------------------------------------\n",
      "const        420.1577     46.851      8.968      0.000     323.854     516.461\n",
      "x1          -570.3286     75.004     -7.604      0.000    -724.501    -416.156\n",
      "==============================================================================\n",
      "Omnibus:                        7.573   Durbin-Watson:                   1.740\n",
      "Prob(Omnibus):                  0.023   Jarque-Bera (JB):                5.938\n",
      "Skew:                           0.830   Prob(JB):                       0.0514\n",
      "Kurtosis:                       4.528   Cond. No.                         11.6\n",
      "==============================================================================\n",
      "\n",
      "Notes:\n",
      "[1] Standard Errors assume that the covariance matrix of the errors is correctly specified.\n"
     ]
    }
   ],
   "source": [
    "print(est2.summary())"
   ]
  },
  {
   "cell_type": "markdown",
   "id": "55941adf",
   "metadata": {},
   "source": [
    "We can check how each data point compares with the confidence interval of the LR prediction:"
   ]
  },
  {
   "cell_type": "code",
   "execution_count": 26,
   "id": "c37e5cf9",
   "metadata": {},
   "outputs": [
    {
     "data": {
      "image/png": "[encoded data removed]",
      "text/plain": [
       "<Figure size 432x288 with 1 Axes>"
      ]
     },
     "metadata": {
      "needs_background": "light"
     },
     "output_type": "display_data"
    }
   ],
   "source": [
    "fig = sm.graphics.plot_fit(est2, \"x1\")"
   ]
  },
  {
   "cell_type": "code",
   "execution_count": 27,
   "id": "bf855459",
   "metadata": {},
   "outputs": [
    {
     "data": {
      "image/png": "[encoded data removed]",
      "text/plain": [
       "<Figure size 432x288 with 4 Axes>"
      ]
     },
     "metadata": {
      "needs_background": "light"
     },
     "output_type": "display_data"
    }
   ],
   "source": [
    "fig = sm.graphics.plot_regress_exog(est2, \"x1\")"
   ]
  },
  {
   "cell_type": "markdown",
   "id": "e638b33c",
   "metadata": {},
   "source": [
    "An, finally, check the normality of the residuals looking at the `qqplot`:"
   ]
  },
  {
   "cell_type": "code",
   "execution_count": 28,
   "id": "7bec99ac",
   "metadata": {},
   "outputs": [
    {
     "name": "stderr",
     "output_type": "stream",
     "text": [
      "/home/jcruz/VE/ds/lib/python3.8/site-packages/statsmodels/graphics/gofplots.py:993: UserWarning: marker is redundantly defined by the 'marker' keyword argument and the fmt string \"bo\" (-> marker='o'). The keyword argument will take precedence.\n",
      "  ax.plot(x, y, fmt, **plot_style)\n"
     ]
    },
    {
     "data": {
      "image/png": "[encoded data removed]",
      "text/plain": [
       "<Figure size 432x288 with 1 Axes>"
      ]
     },
     "metadata": {
      "needs_background": "light"
     },
     "output_type": "display_data"
    }
   ],
   "source": [
    "fig = sm.qqplot(est2.resid, stats.t, distargs=(4,), line=\"s\")"
   ]
  },
  {
   "cell_type": "markdown",
   "id": "304a2102",
   "metadata": {},
   "source": [
    "At this point we should remind ourselves the assumptions that need to be verified when using LR to take conclusions about the data:\n",
    "\n",
    "__All observations are independent__\n",
    "\n",
    "Although cross border and regional effects could challenge this assumption, let's believe that those effects are small enough to be ignored.\n",
    "\n",
    "__The relationship between the variables we are analysing is linear__\n",
    "\n",
    "Of course FVP can't go below 0 or above 100, however the linearity should hold at least locally.\n",
    "\n",
    "__The errors between the prediction and the real values are normally distributed__\n",
    "\n",
    "The errors don't fall straight in the `QQ plot`, however they don't seem hugely skwed either...\n",
    "\n",
    "__The errors are homoscedastic, i.e., the error variance doesn't change much along the line__\n",
    "\n",
    "Again, the error variance is not constant, from the initial plot we can see that countries in the lower PFVP vary greatly in death rate and much more than countries in the higher PFVP."
   ]
  },
  {
   "cell_type": "markdown",
   "id": "dc875b08",
   "metadata": {},
   "source": [
    "## Conclusion\n",
    "\n",
    "All things considered, I wouldn't rely on this LR for a rigorous quantification of the vaccination percentage effect. However, our goal here is to get a rough estimate of the relationship between PFVP and death rate. So, this LR should be enough to support it."
   ]
  },
  {
   "cell_type": "markdown",
   "id": "ecab5955",
   "metadata": {},
   "source": [
    "# Compute the absolute decrease in deaths per vaccination %"
   ]
  },
  {
   "cell_type": "markdown",
   "id": "16abd99a",
   "metadata": {},
   "source": [
    "In the LR above the parameter `m` corresponds to the slope of the line for each 100% of vaccinated population. Thus, we need to divide by 100 to get the variation in number of deaths (14 days average) for each 1% "
   ]
  },
  {
   "cell_type": "code",
   "execution_count": 29,
   "id": "8a74a110",
   "metadata": {},
   "outputs": [],
   "source": [
    "m1 = m / 100.0"
   ]
  },
  {
   "cell_type": "markdown",
   "id": "4a925d0e",
   "metadata": {},
   "source": [
    "Once we get an estimate of the slope we can extrapolate to the full population:"
   ]
  },
  {
   "cell_type": "code",
   "execution_count": 30,
   "id": "94a4a571",
   "metadata": {},
   "outputs": [
    {
     "name": "stdout",
     "output_type": "stream",
     "text": [
      "Europe population: 432044223\n"
     ]
    }
   ],
   "source": [
    "eu_pop = data['pop'].sum()\n",
    "\n",
    "print(\"Europe population: %d\" % eu_pop)"
   ]
  },
  {
   "cell_type": "markdown",
   "id": "44539458",
   "metadata": {},
   "source": [
    "Our estimate for the absolute change in weekly deaths for the whole population for each 1% of FVP is:"
   ]
  },
  {
   "cell_type": "code",
   "execution_count": 34,
   "id": "131fe87c",
   "metadata": {},
   "outputs": [
    {
     "data": {
      "text/plain": [
       "-352.0102760918289"
      ]
     },
     "execution_count": 34,
     "metadata": {},
     "output_type": "execute_result"
    }
   ],
   "source": [
    "(eu_pop/10**6 * m1) / 7"
   ]
  },
  {
   "cell_type": "markdown",
   "id": "43fb1832",
   "metadata": {},
   "source": [
    "Finally we generate a chart to illustrate the estimated decrease in deaths for 1% increase in vaccinated population."
   ]
  },
  {
   "cell_type": "code",
   "execution_count": 36,
   "id": "40a6b97d",
   "metadata": {},
   "outputs": [
    {
     "data": {
      "image/png": "[encoded data removed]",
      "text/plain": [
       "<Figure size 432x288 with 1 Axes>"
      ]
     },
     "metadata": {
      "needs_background": "light"
     },
     "output_type": "display_data"
    }
   ],
   "source": [
    "def arrow(plt, x1, y1, x2, y2):\n",
    "    plt.annotate(\"\", xy=(x1, y1),     xycoords='data',\n",
    "                     xytext=(x2, y2), textcoords='data',\n",
    "                     arrowprops=dict(arrowstyle=\"->\",\n",
    "                                     connectionstyle=\"arc3\",\n",
    "                                     color='r'))\n",
    "\n",
    "x1, x2 = (0.03, 0.04)\n",
    "y1, y2 = (x1 * m + b, x2 * m + b)\n",
    "\n",
    "dx = 0.01\n",
    "dy = 0.01\n",
    "\n",
    "XX = np.linspace(0.025, 0.045, 10)\n",
    "YY = XX * m + b\n",
    "\n",
    "plt.plot(XX, YY)\n",
    "\n",
    "arrow(plt, x2, y1, x1, y1)\n",
    "arrow(plt, x2, y2, x2, y1)\n",
    "\n",
    "plt.text(x1 + 0.0025, y1+0.5, \"1% increase in\\nvaccinated people\")\n",
    "plt.text(x2 + 0.0005, y2+2, \"%1.2f less deaths\\nper 1M people\\neach 2 weeks\" % (-0.01 * m))\n",
    "\n",
    "plt.savefig(\"../../images/covid_vaccination/covid_vaccination-fig_3.png\")\n",
    "\n",
    "plt.show()"
   ]
  }
 ],
 "metadata": {
  "kernelspec": {
   "display_name": "ds",
   "language": "python",
   "name": "ds"
  },
  "language_info": {
   "codemirror_mode": {
    "name": "ipython",
    "version": 3
   },
   "file_extension": ".py",
   "mimetype": "text/x-python",
   "name": "python",
   "nbconvert_exporter": "python",
   "pygments_lexer": "ipython3",
   "version": "3.8.10"
  }
 },
 "nbformat": 4,
 "nbformat_minor": 5
}
