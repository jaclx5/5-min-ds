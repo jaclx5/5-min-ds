{
 "cells": [
  {
   "cell_type": "markdown",
   "id": "55ef7139-d969-4af2-a72d-f079aaa97a84",
   "metadata": {},
   "source": [
    "# Sequence Alignment Demo\n",
    "\n",
    "The `dalt` package exposes an API to visualize alignment algrithms as ternary trees."
   ]
  },
  {
   "cell_type": "code",
   "execution_count": 1,
   "id": "a5bd3fb6-69dd-4536-b9e1-4d7762c662e8",
   "metadata": {},
   "outputs": [],
   "source": [
    "import os\n",
    "\n",
    "from dalt.alignment import Alignment\n",
    "from dalt.simulation import Simulation\n",
    "from dalt.algorithm_greedy import AlgorithmGreedy\n",
    "from dalt.algorithm_bf import AlgorithmBruteForce"
   ]
  },
  {
   "cell_type": "markdown",
   "id": "3c22b78e-7a43-4477-a279-d9ca18945a9f",
   "metadata": {},
   "source": [
    "__Change here the path for a more convenient one!__"
   ]
  },
  {
   "cell_type": "code",
   "execution_count": 2,
   "id": "a013201b-44b8-44b0-8316-b2c9f50e68cf",
   "metadata": {},
   "outputs": [],
   "source": [
    "PATH_OUTPUT = \"../../../images/sequence_alignments\""
   ]
  },
  {
   "cell_type": "markdown",
   "id": "aee093b7-ff8a-40e9-9326-4078731a4c6d",
   "metadata": {},
   "source": [
    "# Align a Trivial Sequence"
   ]
  },
  {
   "cell_type": "markdown",
   "id": "55021f1e-f9ba-4bb9-8efa-33cb8ea6496d",
   "metadata": {},
   "source": [
    "First we create an alignment (`aln`) by defining:\n",
    "\n",
    "1. The sequences to be aligned:\n",
    "    - AB\n",
    "    - AX\n",
    "\n",
    "2. The scoring scheme:\n",
    "    - $MATCH == 3$\n",
    "    - $MISMATCH == -1$\n",
    "    - $GAP == -2$"
   ]
  },
  {
   "cell_type": "code",
   "execution_count": 3,
   "id": "2550bbd5-4de3-43a5-9ad2-daea7337ba01",
   "metadata": {},
   "outputs": [],
   "source": [
    "aln = Alignment(seq1=\"AB\", seq2=\"AX\", vmatch=3, vmismatch=-1, vgap=-2)"
   ]
  },
  {
   "cell_type": "markdown",
   "id": "aa8498a1-6a56-4cf6-8118-2fab282929df",
   "metadata": {},
   "source": [
    "Then we create an instance (`algo_greddy`) of the greedy algorithm that we'll use to perform the simulation:"
   ]
  },
  {
   "cell_type": "code",
   "execution_count": 4,
   "id": "71633481-5f85-4054-9d10-97bb5aa3d63e",
   "metadata": {},
   "outputs": [],
   "source": [
    "algo_greddy = AlgorithmGreedy()"
   ]
  },
  {
   "cell_type": "markdown",
   "id": "82ae60a6-f0b3-47dd-aa00-ce11530c090a",
   "metadata": {},
   "source": [
    "Finally we create an instance (`s`) of the simulation engine:"
   ]
  },
  {
   "cell_type": "code",
   "execution_count": 5,
   "id": "ac259524-cd44-46bb-b0be-03a2f02bf3a0",
   "metadata": {},
   "outputs": [],
   "source": [
    "s_greedy = Simulation(aln, algo_greddy)"
   ]
  },
  {
   "cell_type": "markdown",
   "id": "19700d35-1f54-4c6b-bb31-f7bdbef43d45",
   "metadata": {},
   "source": [
    "Now we can play with the simulation to visualize, for example, the state of the Greedy Algorithm\n",
    "after 3 steps:"
   ]
  },
  {
   "cell_type": "code",
   "execution_count": 6,
   "id": "8e4083de-db13-4af0-ade6-ab91e943a2be",
   "metadata": {},
   "outputs": [
    {
     "data": {
      "image/png": "[encoded data removed]",
      "text/plain": [
       "<PIL.PngImagePlugin.PngImageFile image mode=RGB size=252x135>"
      ]
     },
     "execution_count": 6,
     "metadata": {},
     "output_type": "execute_result"
    }
   ],
   "source": [
    "s_greedy.frame(max_steps=3).img"
   ]
  },
  {
   "cell_type": "markdown",
   "id": "d59709f5-cafb-4de5-8594-c5550c76f3cd",
   "metadata": {},
   "source": [
    "To visualize the evolution of the algorithm we can create a \"movie\", i.e., the sequence of frames\n",
    "from the first 3 steps the algorihtm:"
   ]
  },
  {
   "cell_type": "code",
   "execution_count": 7,
   "id": "0473c63d-87ce-4ec3-8c54-f2bf715e0fe2",
   "metadata": {},
   "outputs": [],
   "source": [
    "movie = s_greedy.movie(max_steps=3)"
   ]
  },
  {
   "cell_type": "markdown",
   "id": "c090e788-8ef3-4093-89ab-cecfb45e4601",
   "metadata": {},
   "source": [
    "In the first step there is no alignment yet:"
   ]
  },
  {
   "cell_type": "code",
   "execution_count": 8,
   "id": "7dc38e7c-8b5a-47d1-980c-e0973faec0ad",
   "metadata": {},
   "outputs": [
    {
     "data": {
      "image/png": "[encoded data removed]",
      "text/plain": [
       "<PIL.Image.Image image mode=RGB size=252x135>"
      ]
     },
     "execution_count": 8,
     "metadata": {},
     "output_type": "execute_result"
    }
   ],
   "source": [
    "movie.get_frames(0).img"
   ]
  },
  {
   "cell_type": "markdown",
   "id": "29a770d7-4d90-4e2e-91d7-0bb760bd1a66",
   "metadata": {},
   "source": [
    "In the second step, the first node is expanded into the 3 possible operations:\n",
    "- A __GAP__ in the bottom sequence.\n",
    "- A __MATCH__ between $Seq1_1$ and $Seq2_1$.\n",
    "- A __GAP__ in the yop sequence."
   ]
  },
  {
   "cell_type": "code",
   "execution_count": 9,
   "id": "c3c30e44-dc95-402c-9dd7-a5aebb6d1cf0",
   "metadata": {},
   "outputs": [
    {
     "data": {
      "image/png": "[encoded data removed]",
      "text/plain": [
       "<PIL.Image.Image image mode=RGB size=252x135>"
      ]
     },
     "execution_count": 9,
     "metadata": {},
     "output_type": "execute_result"
    }
   ],
   "source": [
    "movie.get_frames(1).img"
   ]
  },
  {
   "cell_type": "markdown",
   "id": "bc68ff2c-1240-4875-93b0-ecc1a6f444b3",
   "metadata": {},
   "source": [
    "In the third step, the best node of the previous step (green box) is expanded again into the 3\n",
    "possible operations. In this case a solution was found (blue box).\n",
    "\n",
    "Remember this is a Greedy Algorithm, hence __the solution found is not guarantee to be the optimal\n",
    "one__, i.e. the best possible."
   ]
  },
  {
   "cell_type": "code",
   "execution_count": 10,
   "id": "bcb4f41a-1e7e-49dd-be34-7711433f4c0c",
   "metadata": {},
   "outputs": [
    {
     "data": {
      "image/png": "[encoded data removed]",
      "text/plain": [
       "<PIL.Image.Image image mode=RGB size=252x135>"
      ]
     },
     "execution_count": 10,
     "metadata": {},
     "output_type": "execute_result"
    }
   ],
   "source": [
    "movie.get_frames(2).img"
   ]
  },
  {
   "cell_type": "markdown",
   "id": "b29ecc8e-740d-4dd3-9780-ec737d5d5b89",
   "metadata": {},
   "source": [
    "Let's try the Brute Force algorithm :"
   ]
  },
  {
   "cell_type": "code",
   "execution_count": 11,
   "id": "6cce81f9-5138-4db9-83b6-265813470128",
   "metadata": {},
   "outputs": [],
   "source": [
    "algo_bf = AlgorithmBruteForce()\n",
    "\n",
    "# get a new instance of the simulation engine\n",
    "s_bf = Simulation(aln, algo_bf)\n",
    "\n",
    "# run the first 100 steps (i.e. a number big enough to get a solution)\n",
    "frame = s_bf.frame(max_steps=100)"
   ]
  },
  {
   "cell_type": "markdown",
   "id": "c44c9350-e706-4729-a66b-d455782b3dd3",
   "metadata": {},
   "source": [
    "We can now check of a solution was found before the 100 steps:"
   ]
  },
  {
   "cell_type": "code",
   "execution_count": 12,
   "id": "a65c7b23-7947-4b05-9d11-c7577a943775",
   "metadata": {},
   "outputs": [
    {
     "name": "stdout",
     "output_type": "stream",
     "text": [
      "Number of steps to align 'AB' and 'AX': 18\n"
     ]
    }
   ],
   "source": [
    "print(f\"Number of steps to align '{aln._seq1}' and '{aln._seq2}': {frame.steps}\")"
   ]
  },
  {
   "cell_type": "markdown",
   "id": "fafa151e-e161-4faf-bcab-4f4e9d629438",
   "metadata": {},
   "source": [
    "Inspecting the last step of the Brute Force algorithm we can see that optimal solution is actualy\n",
    "the one that was found by the geedy algorithm above:"
   ]
  },
  {
   "cell_type": "code",
   "execution_count": 13,
   "id": "4c8e726a-12d7-40ae-a628-10c397fd98ed",
   "metadata": {},
   "outputs": [
    {
     "data": {
      "image/png": "[encoded data removed]",
      "text/plain": [
       "<PIL.PngImagePlugin.PngImageFile image mode=RGB size=420x585>"
      ]
     },
     "execution_count": 13,
     "metadata": {},
     "output_type": "execute_result"
    }
   ],
   "source": [
    "frame.img"
   ]
  },
  {
   "cell_type": "markdown",
   "id": "f802d3ae-88ba-4632-80df-b6dbd0a9a247",
   "metadata": {},
   "source": [
    "# Generating the Images for the POST\n",
    "\n",
    "Bellow is the code to generate the images used in the post [How to Compare Text with Sequence\n",
    "Alignment Algorithms - Part 3](https://jaclx5.github.io/sequence_alignments_3)."
   ]
  },
  {
   "cell_type": "markdown",
   "id": "46dccbeb-b587-46bb-ad59-27ee2cf93802",
   "metadata": {},
   "source": [
    "## Aligning `POINTER` and `PUNTER` with a Greedy Algorithm"
   ]
  },
  {
   "cell_type": "code",
   "execution_count": 14,
   "id": "dd95a0f7-6f42-4fa6-b0d5-1ccd53e0a723",
   "metadata": {},
   "outputs": [],
   "source": [
    "# define the alignment sequence and scoring scheme\n",
    "aln = Alignment(\"POINTER\", \"PUNTER\", 3, -1, -2)\n",
    "\n",
    "# get an instance of the algorithm to use\n",
    "ag = AlgorithmGreedy()\n",
    "\n",
    "# get an instance of the simulation engine\n",
    "s = Simulation(aln, ag)"
   ]
  },
  {
   "cell_type": "code",
   "execution_count": 15,
   "id": "10b76fe7-30f7-476b-92bf-24c933f5c63e",
   "metadata": {},
   "outputs": [],
   "source": [
    "# generate the images until the solution\n",
    "s.movie(max_steps=100).save(os.path.join(PATH_OUTPUT, \"greedy1\"))"
   ]
  },
  {
   "cell_type": "markdown",
   "id": "011f7332-1d19-4331-8d27-a7f8e9627b04",
   "metadata": {},
   "source": [
    "## Aligning `ABC` and `ABXABC` with a Greedy Algorithm"
   ]
  },
  {
   "cell_type": "code",
   "execution_count": 16,
   "id": "5def9ffc-e7f6-48cf-b2f2-bca696a63cd3",
   "metadata": {},
   "outputs": [],
   "source": [
    "# define the alignment sequence and scoring scheme\n",
    "aln = Alignment(\"ABC\", \"ABXABC\", 3, -1, -2)\n",
    "\n",
    "# get an instance of the algorithm to use\n",
    "ag = AlgorithmGreedy()\n",
    "\n",
    "# get an instance of the simulation engine\n",
    "s = Simulation(aln, ag)\n",
    "\n",
    "s.movie(max_steps=15).save(os.path.join(PATH_OUTPUT, \"greedy2\"))"
   ]
  },
  {
   "cell_type": "markdown",
   "id": "6b71f5b8-c505-4d25-b7d9-3034a530d4bd",
   "metadata": {},
   "source": [
    "## Aligning `ABC` and `ABXABC` with a Brute Force Algorithm"
   ]
  },
  {
   "cell_type": "code",
   "execution_count": 17,
   "id": "45d333c2-01dd-4f1a-98fe-037c9a9c8506",
   "metadata": {},
   "outputs": [
    {
     "name": "stdout",
     "output_type": "stream",
     "text": [
      "Solution found after 743!\n"
     ]
    }
   ],
   "source": [
    "N_STEPS = 2000\n",
    "\n",
    "# define the alignment sequence and scoring scheme\n",
    "aln = Alignment(\"ABC\", \"ABXABC\", 3, -1, -2)\n",
    "\n",
    "# get an instance of the algorithm to use\n",
    "algo = AlgorithmBruteForce()\n",
    "\n",
    "# get an instance of the simulation engine\n",
    "s = Simulation(aln, algo)\n",
    "\n",
    "f = s.frame(max_steps=N_STEPS)\n",
    "\n",
    "assert f.end, f\"{N_STEPS} steps are not enough to find the solution!\"\n",
    "\n",
    "print(f\"Solution found after {f.steps}!\")\n",
    "\n",
    "f.img.save(os.path.join(PATH_OUTPUT, \"full_brute_force.png\"))"
   ]
  }
 ],
 "metadata": {
  "kernelspec": {
   "display_name": "ds3",
   "language": "python",
   "name": "ds3"
  },
  "language_info": {
   "codemirror_mode": {
    "name": "ipython",
    "version": 3
   },
   "file_extension": ".py",
   "mimetype": "text/x-python",
   "name": "python",
   "nbconvert_exporter": "python",
   "pygments_lexer": "ipython3",
   "version": "3.10.12"
  }
 },
 "nbformat": 4,
 "nbformat_minor": 5
}
