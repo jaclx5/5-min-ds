{
 "cells": [
  {
   "cell_type": "code",
   "execution_count": 69,
   "id": "004badd3",
   "metadata": {},
   "outputs": [],
   "source": [
    "import copy\n",
    "import re\n",
    "\n",
    "from functools import reduce\n",
    "from collections import Counter"
   ]
  },
  {
   "cell_type": "code",
   "execution_count": null,
   "id": "53f5582d",
   "metadata": {},
   "outputs": [],
   "source": []
  },
  {
   "cell_type": "code",
   "execution_count": 2,
   "id": "1455b927",
   "metadata": {},
   "outputs": [],
   "source": [
    "words = open(\"/usr/share/dict/american-english\").read().split(\"\\n\")"
   ]
  },
  {
   "cell_type": "code",
   "execution_count": 3,
   "id": "0cf0fb6d",
   "metadata": {},
   "outputs": [],
   "source": [
    "words5 = list(filter(lambda w: (len(w) == 5) and w[0].islower() and (not \"'\" in w), words))"
   ]
  },
  {
   "cell_type": "code",
   "execution_count": 36,
   "id": "fb2bdc91",
   "metadata": {},
   "outputs": [
    {
     "name": "stdout",
     "output_type": "stream",
     "text": [
      "0.00043402777777777775\n"
     ]
    },
    {
     "data": {
      "text/plain": [
       "['drink', 'drunk']"
      ]
     },
     "execution_count": 36,
     "metadata": {},
     "output_type": "execute_result"
    }
   ],
   "source": [
    "def select(w):\n",
    "    pat = \"[^balesfo]r[^balesfo]n[^balesfod]\"\n",
    "\n",
    "    if (w.count(\"d\") == 1):\n",
    "        if re.match(pat, w):\n",
    "            return True\n",
    "    \n",
    "    return False\n",
    "            \n",
    "words_sel = list(filter(select, words5))\n",
    "\n",
    "print(len(words_sel) / len(words5))\n",
    "\n",
    "words_sel"
   ]
  },
  {
   "cell_type": "code",
   "execution_count": 35,
   "id": "d0c19f4c",
   "metadata": {},
   "outputs": [
    {
     "name": "stdout",
     "output_type": "stream",
     "text": [
      "\n",
      "Searching in a dictionary of 121 words\n",
      "'r' is the most common positional letter. It appears 58 times in position 2\n",
      "\n",
      "Searching in a dictionary of 41 words\n",
      "'o' is the most common positional letter. It appears 21 times in position 3\n",
      "\n",
      "Searching in a dictionary of 21 words\n",
      "'n' is the most common positional letter. It appears 6 times in position 4\n",
      "\n",
      "Searching in a dictionary of 6 words\n",
      "'f' is the most common positional letter. It appears 2 times in position 1\n",
      "\n",
      "Searching in a dictionary of 2 words\n",
      "'d' is the most common positional letter. It appears 1 times in position 5\n"
     ]
    },
    {
     "data": {
      "text/plain": [
       "['frond']"
      ]
     },
     "execution_count": 35,
     "metadata": {},
     "output_type": "execute_result"
    }
   ],
   "source": [
    "def most_common(words, pos):\n",
    "    max_c, max_i, max_v = \"\", 0, 0\n",
    "    \n",
    "    for i in pos:\n",
    "        c, v = Counter([w[i] for w in words]).most_common()[0]\n",
    "        \n",
    "        if v > max_v:\n",
    "            max_c, max_i, max_v = c, i, v\n",
    "            \n",
    "    return max_c, max_i, max_v\n",
    "\n",
    "\n",
    "def filter_words(words, c, i):\n",
    "    return list(filter(lambda w: (w[i] == c) and (len(set(w)) == 5), words))\n",
    "\n",
    "\n",
    "#\n",
    "#\n",
    "#\n",
    "pos = list(range(5))\n",
    "\n",
    "# CHANGE HERE\n",
    "#word_list = copy.copy(words5)\n",
    "word_list = copy.copy(words_sel)\n",
    "\n",
    "while pos:\n",
    "    print(\"\\nSearching in a dictionary of {} words\".format(len(word_list)))\n",
    "    \n",
    "    (c, i, v) = most_common(word_list, pos)\n",
    "    \n",
    "    print(\"'{}' is the most common positional letter. It appears {} times in position {}\".format(c, v, i+1))\n",
    "    \n",
    "    word_list = filter_words(word_list, c, i)\n",
    "    \n",
    "    #print(word_list)\n",
    "    \n",
    "    del pos[pos.index(i)]\n",
    "\n",
    "word_list"
   ]
  },
  {
   "cell_type": "code",
   "execution_count": null,
   "id": "c0887c0f",
   "metadata": {},
   "outputs": [],
   "source": [
    "bales"
   ]
  },
  {
   "cell_type": "code",
   "execution_count": 1,
   "id": "0feb85d4",
   "metadata": {},
   "outputs": [],
   "source": [
    "import re"
   ]
  },
  {
   "cell_type": "code",
   "execution_count": 21,
   "id": "b0aeff4c",
   "metadata": {},
   "outputs": [
    {
     "data": {
      "text/plain": [
       "{'A': '[U]', 'B': None, 'C': 'B'}"
      ]
     },
     "execution_count": 21,
     "metadata": {},
     "output_type": "execute_result"
    }
   ],
   "source": [
    "m = re.match(\"(\", \"AA[U]BB\")\n",
    "m.groupdict()"
   ]
  },
  {
   "cell_type": "code",
   "execution_count": 61,
   "id": "3ba30dcd",
   "metadata": {},
   "outputs": [],
   "source": [
    "d = [set(\"ABC\"), set(\"BDEF\")]"
   ]
  },
  {
   "cell_type": "code",
   "execution_count": 71,
   "id": "034251aa",
   "metadata": {},
   "outputs": [],
   "source": [
    "from  functools import reduce"
   ]
  },
  {
   "cell_type": "code",
   "execution_count": 82,
   "id": "76493087",
   "metadata": {},
   "outputs": [],
   "source": [
    "a = set(\"ab\")\n",
    "w = set(\"aibo\")"
   ]
  },
  {
   "cell_type": "code",
   "execution_count": 91,
   "id": "9aa8cbd7",
   "metadata": {},
   "outputs": [],
   "source": [
    "d = {4: 1555, 5: 1229, 3: 772, 6: 561, 7: 204, 2: 105, 8: 90, 9: 48, 10: 21, 11: 7, 1: 2}\n",
    "\n",
    "x = 0\n",
    "c = 0\n",
    "for k, v in d.items():\n",
    "    x += k * v\n",
    "    c += v\n",
    "    "
   ]
  },
  {
   "cell_type": "code",
   "execution_count": 92,
   "id": "038aead1",
   "metadata": {},
   "outputs": [
    {
     "data": {
      "text/plain": [
       "4.598606878537223"
      ]
     },
     "execution_count": 92,
     "metadata": {},
     "output_type": "execute_result"
    }
   ],
   "source": [
    "x/c"
   ]
  }
 ],
 "metadata": {
  "kernelspec": {
   "display_name": "ds",
   "language": "python",
   "name": "ds"
  },
  "language_info": {
   "codemirror_mode": {
    "name": "ipython",
    "version": 3
   },
   "file_extension": ".py",
   "mimetype": "text/x-python",
   "name": "python",
   "nbconvert_exporter": "python",
   "pygments_lexer": "ipython3",
   "version": "3.8.10"
  }
 },
 "nbformat": 4,
 "nbformat_minor": 5
}
