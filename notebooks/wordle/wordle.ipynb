{
 "cells": [
  {
   "cell_type": "markdown",
   "id": "1c7b2b21",
   "metadata": {},
   "source": [
    "# Solving WORDLE with Information Theory\n",
    "\n",
    "This is the companion notebook of this [post](https://jaclx5.github.io/wardle) with the same title.\n",
    "\n",
    "(add a pointer to the wordle solution game).\n",
    "\n",
    "## Seting up the stage"
   ]
  },
  {
   "cell_type": "code",
   "execution_count": 1,
   "id": "004badd3",
   "metadata": {},
   "outputs": [],
   "source": [
    "import copy\n",
    "import math\n",
    "import re\n",
    "\n",
    "from functools import reduce\n",
    "from collections import Counter\n",
    "\n",
    "from tqdm import tqdm"
   ]
  },
  {
   "cell_type": "code",
   "execution_count": 2,
   "id": "1455b927",
   "metadata": {},
   "outputs": [],
   "source": [
    "WORDS_FILE = \"words05.txt\"\n",
    "\n",
    "ALL_LETTERS = list(map(chr, range(65, 91))) # all letters A-Z"
   ]
  },
  {
   "cell_type": "markdown",
   "id": "aa323b7e",
   "metadata": {},
   "source": [
    "Here we'll use the list of 5 letters extracted from the Ubuntu English dictionary:"
   ]
  },
  {
   "cell_type": "code",
   "execution_count": 3,
   "id": "0cf0fb6d",
   "metadata": {},
   "outputs": [],
   "source": [
    "words = open(WORDS_FILE).read().strip().split(\"\\n\")"
   ]
  },
  {
   "cell_type": "markdown",
   "id": "ea43460d",
   "metadata": {},
   "source": [
    "## Most Informative Letters\n",
    "\n",
    "The first question we want to answer is: \"What is the most informative letter\"?\n",
    "\n",
    "Let's start by counting the occurence of each letter in each individual positions."
   ]
  },
  {
   "cell_type": "code",
   "execution_count": 4,
   "id": "5602c980",
   "metadata": {},
   "outputs": [],
   "source": [
    "N = len(words)\n",
    "\n",
    "cmap = []\n",
    "imap = []\n",
    "\n",
    "# loop over the 5 positions\n",
    "for i in range(5):\n",
    "    cchar = {}\n",
    "\n",
    "    # loop over the letters of the alphabet\n",
    "    for c in ALL_LETTERS:\n",
    "        (g, y, x) = (0, 0, 0)\n",
    "        \n",
    "        # loop over all words\n",
    "        # and count the number of times letter `c`...\n",
    "        for w in words:\n",
    "            if w[i] == c:\n",
    "                # ...appears in position i-th\n",
    "                g += 1\n",
    "            elif c in w:\n",
    "                # ...appears in the word\n",
    "                y += 1\n",
    "            else:\n",
    "                # ...does not appear in the word\n",
    "                x += 1\n",
    "        \n",
    "        # store the counts for letter `c`\n",
    "        cchar[c] = {'g': g, 'y': y, 'x': x}\n",
    "    \n",
    "    # store the counts for position `i`\n",
    "    cmap.append(cchar)"
   ]
  },
  {
   "cell_type": "markdown",
   "id": "fdd27a8d",
   "metadata": {},
   "source": [
    "Now we can ask, for example, how many times:\n",
    "\n",
    "\"A\" and \"Z\" appear in the 1st position:"
   ]
  },
  {
   "cell_type": "code",
   "execution_count": 5,
   "id": "8d0ac777",
   "metadata": {},
   "outputs": [
    {
     "data": {
      "text/plain": [
       "(228, 13)"
      ]
     },
     "execution_count": 5,
     "metadata": {},
     "output_type": "execute_result"
    }
   ],
   "source": [
    "cmap[0]['A']['g'], cmap[0]['Z']['g']"
   ]
  },
  {
   "cell_type": "markdown",
   "id": "212df356",
   "metadata": {},
   "source": [
    "\"A\" and \"Z\" appear in the word but not in the 1st position:"
   ]
  },
  {
   "cell_type": "code",
   "execution_count": 6,
   "id": "194f81c5",
   "metadata": {},
   "outputs": [
    {
     "data": {
      "text/plain": [
       "(1508, 75)"
      ]
     },
     "execution_count": 6,
     "metadata": {},
     "output_type": "execute_result"
    }
   ],
   "source": [
    "cmap[0]['A']['y'], cmap[0]['Z']['y']"
   ]
  },
  {
   "cell_type": "code",
   "execution_count": 7,
   "id": "f153fb66",
   "metadata": {},
   "outputs": [
    {
     "data": {
      "text/plain": [
       "(2858, 4506)"
      ]
     },
     "execution_count": 7,
     "metadata": {},
     "output_type": "execute_result"
    }
   ],
   "source": [
    "# \"A\" and \"Z\" do not appear in the word\n",
    "cmap[0]['A']['x'], cmap[0]['Z']['x'], "
   ]
  },
  {
   "cell_type": "markdown",
   "id": "0d775e05",
   "metadata": {},
   "source": [
    "Now, that we have counts, wehave everyting to compute the probabilities and the quantity of information of each letter in each position."
   ]
  },
  {
   "cell_type": "code",
   "execution_count": 8,
   "id": "04d30ab0",
   "metadata": {},
   "outputs": [],
   "source": [
    "inf_map = []\n",
    "\n",
    "for i, v in enumerate(cmap):\n",
    "    inf = {}\n",
    "    \n",
    "    for c, counts in v.items():\n",
    "        # probability of each of the outcomes for letter `c` at position `i`\n",
    "        pg, py, px = (counts['g']+1)/(N+1), (counts['y']+1)/(N+1), (counts['x']+1)/(N+1)\n",
    "        \n",
    "        # quantity of information\n",
    "        inf[c] = -(pg * math.log2(pg) + py * math.log2(py) + px * math.log2(px))\n",
    "        \n",
    "    inf_map.append(inf)"
   ]
  },
  {
   "cell_type": "markdown",
   "id": "0161e0bd",
   "metadata": {},
   "source": [
    "Note that in the probability formula above, instead of simply computing:\n",
    "\n",
    "$P(g) = {g_{count} \\over N}$\n",
    "\n",
    "we use instead:\n",
    "\n",
    "$P(g) = {{g_{count} + 1} \\over {N + 1}}$\n",
    "\n",
    "This is a called smooting and it's a technical trick to avoid probabilities 0 which would make our life miserabel when computing logarithms. The final values will be slightly different but the overall result will not change.\n",
    "\n",
    "We could have computed both quantities at the same time while counting the letters, but I find it more pedagogic this way.\n",
    "\n",
    "So, what it the most (and the least) informative letter (MIL) for each position?"
   ]
  },
  {
   "cell_type": "code",
   "execution_count": 9,
   "id": "30d6f8a4",
   "metadata": {},
   "outputs": [
    {
     "name": "stdout",
     "output_type": "stream",
     "text": [
      "The Most Informative Letters are:\n",
      "Pos 1: 'S' with a 1.42 bits of information.\n",
      "Pos 2: 'E' with a 1.37 bits of information.\n",
      "Pos 3: 'A' with a 1.29 bits of information.\n",
      "Pos 4: 'E' with a 1.46 bits of information.\n",
      "Pos 5: 'S' with a 1.45 bits of information.\n"
     ]
    }
   ],
   "source": [
    "print(\"The Most Informative Letters are:\")\n",
    "\n",
    "for i in range(5):   \n",
    "    c = max(inf_map[i], key=inf_map[i].get)\n",
    "    print(f\"Pos {i+1}: '{c}' with a {inf_map[i][c]:3.2f} bits of information.\")"
   ]
  },
  {
   "cell_type": "code",
   "execution_count": 10,
   "id": "2d07f55e",
   "metadata": {},
   "outputs": [
    {
     "name": "stdout",
     "output_type": "stream",
     "text": [
      "The Least Informative Letters are:\n",
      "Pos 1: 'Q' with a 0.09 bits of information.\n",
      "Pos 2: 'Q' with a 0.08 bits of information.\n",
      "Pos 3: 'Q' with a 0.08 bits of information.\n",
      "Pos 4: 'Q' with a 0.08 bits of information.\n",
      "Pos 5: 'Q' with a 0.08 bits of information.\n"
     ]
    }
   ],
   "source": [
    "print(\"The Least Informative Letters are:\")\n",
    "\n",
    "for i in range(5):   \n",
    "    c = min(inf_map[i], key=inf_map[i].get)\n",
    "    print(f\"Pos {i+1}: '{c}' with a {inf_map[i][c]:3.2f} bits of information.\")"
   ]
  },
  {
   "cell_type": "markdown",
   "id": "08ac65eb",
   "metadata": {},
   "source": [
    "Poor letter \"_Q_\"!"
   ]
  },
  {
   "cell_type": "markdown",
   "id": "c49efe4b",
   "metadata": {},
   "source": [
    "# Which Word Maximizes the Individual Letter Information?\n",
    "\n",
    "We can sum the quantity of information of all letter of a word and look for the word that maximizes that value:"
   ]
  },
  {
   "cell_type": "code",
   "execution_count": 11,
   "id": "444d2c04",
   "metadata": {},
   "outputs": [],
   "source": [
    "max_inf = 0\n",
    "max_word = \"\"\n",
    "\n",
    "for w in words:\n",
    "    # sum the quantity of information of each letter of the word `w`\n",
    "    inf = sum([inf_map[i][c] for i, c in enumerate(w)])\n",
    "    \n",
    "    if inf > max_inf:\n",
    "        max_inf, max_word = inf, w"
   ]
  },
  {
   "cell_type": "markdown",
   "id": "1e94d1f9",
   "metadata": {},
   "source": [
    "And the word is:"
   ]
  },
  {
   "cell_type": "code",
   "execution_count": 12,
   "id": "7c649241",
   "metadata": {},
   "outputs": [
    {
     "data": {
      "text/plain": [
       "'SAREE'"
      ]
     },
     "execution_count": 12,
     "metadata": {},
     "output_type": "execute_result"
    }
   ],
   "source": [
    "max_word"
   ]
  },
  {
   "cell_type": "markdown",
   "id": "d8f1abde",
   "metadata": {},
   "source": [
    "Letters are not independent:"
   ]
  },
  {
   "cell_type": "code",
   "execution_count": 13,
   "id": "dfaa2499",
   "metadata": {},
   "outputs": [
    {
     "name": "stdout",
     "output_type": "stream",
     "text": [
      "'E' occurs 2443 times in all words.\n",
      "'T' occurs 1266 times in all words.\n"
     ]
    }
   ],
   "source": [
    "def occurences(seq, words):\n",
    "    print(f\"'{seq}' occurs {sum(map(lambda w: w.count(seq), words))} times in all words.\")\n",
    "\n",
    "occurences(\"E\", words)\n",
    "occurences(\"T\", words)"
   ]
  },
  {
   "cell_type": "markdown",
   "id": "26b58bf0",
   "metadata": {},
   "source": [
    "Knowing thar we find almost twice more \"E\" than \"T\" in all words."
   ]
  },
  {
   "cell_type": "code",
   "execution_count": 14,
   "id": "d2067128",
   "metadata": {},
   "outputs": [
    {
     "name": "stdout",
     "output_type": "stream",
     "text": [
      "'AE' occurs 12 times in all words.\n"
     ]
    }
   ],
   "source": [
    "occurences(\"AE\", words)"
   ]
  },
  {
   "cell_type": "markdown",
   "id": "2bd7c408",
   "metadata": {},
   "source": [
    "And that we find 12 \"E\" after \"A\", we would expect to find (by independence) 6 \"T\" after \"A\":"
   ]
  },
  {
   "cell_type": "code",
   "execution_count": 15,
   "id": "52641b7e",
   "metadata": {},
   "outputs": [
    {
     "name": "stdout",
     "output_type": "stream",
     "text": [
      "'AT' occurs 129 times in all words.\n"
     ]
    }
   ],
   "source": [
    "occurences(\"AT\", words)"
   ]
  },
  {
   "cell_type": "markdown",
   "id": "bbbec048",
   "metadata": {},
   "source": [
    "In fact we find 129, slightly more than 6, which points strongly against the independence of letter occurence, which is, by the way, common knowledge!"
   ]
  },
  {
   "cell_type": "markdown",
   "id": "7ac42468",
   "metadata": {},
   "source": [
    "# Most Informative Word\n",
    "\n",
    "Lets extend the Most Informative Letter approach the find the Most Informative Word.\n",
    "\n",
    "First we need a function to compute the response clue for any given pair of solution and guess word:"
   ]
  },
  {
   "cell_type": "code",
   "execution_count": 16,
   "id": "5585f4ee",
   "metadata": {},
   "outputs": [
    {
     "data": {
      "text/plain": [
       "'yxggx'"
      ]
     },
     "execution_count": 16,
     "metadata": {},
     "output_type": "execute_result"
    }
   ],
   "source": [
    "def compute_response(solution, guess):\n",
    "    resp = \"\"\n",
    "\n",
    "    for cw, cg in zip(solution, guess):\n",
    "        if cw == cg:\n",
    "            resp += \"g\"\n",
    "        elif cg in solution:\n",
    "            resp += \"y\"\n",
    "        else:\n",
    "            resp += \"x\"\n",
    "\n",
    "    return resp\n",
    "\n",
    "compute_response(\"VIDEO\", \"OLDEN\")"
   ]
  },
  {
   "cell_type": "markdown",
   "id": "533a87a8",
   "metadata": {},
   "source": [
    "Next we'll compute the quantity of information of a given guess word by:\n",
    "1. Compute all possible occurrences of response clues for that guess word.\n",
    "1. Counting how many times each response occurs for that word.\n",
    "1. Use this value to compute the probability of the response and the quantity of information."
   ]
  },
  {
   "cell_type": "code",
   "execution_count": 17,
   "id": "4c2c9748",
   "metadata": {},
   "outputs": [],
   "source": [
    "def word_information(guess, words):\n",
    "    responses = []\n",
    "    \n",
    "    # Compute all possible occurrences of response clues.\n",
    "    for solution in words:\n",
    "        responses.append(compute_response(solution, guess))\n",
    "\n",
    "    # Count how many times each response occurs\n",
    "    inf = 0\n",
    "    for count_response in Counter(responses).values():\n",
    "        # Compute the probability of the response and the quantity of information.\n",
    "        inf += -math.log2(count_response/N) * (count_response/N)\n",
    "    \n",
    "    return inf"
   ]
  },
  {
   "cell_type": "markdown",
   "id": "d2a1bc8a",
   "metadata": {},
   "source": [
    "For example, $I(DRINK)$ is:"
   ]
  },
  {
   "cell_type": "code",
   "execution_count": 18,
   "id": "5b2ab80b",
   "metadata": {},
   "outputs": [
    {
     "data": {
      "text/plain": [
       "4.492051185462364"
      ]
     },
     "execution_count": 18,
     "metadata": {},
     "output_type": "execute_result"
    }
   ],
   "source": [
    "word_information(\"DRINK\", words)"
   ]
  },
  {
   "cell_type": "markdown",
   "id": "d109fee3",
   "metadata": {},
   "source": [
    "Finally we just have to repeat the same process for all words and find the MIW:"
   ]
  },
  {
   "cell_type": "code",
   "execution_count": 19,
   "id": "40c4f84c",
   "metadata": {},
   "outputs": [],
   "source": [
    "def most_informative_word(words):\n",
    "    max_inf = 0\n",
    "    max_word = \"\"\n",
    "\n",
    "    # for all the guess words\n",
    "    for guess in tqdm(words):\n",
    "        inf = word_information(guess, words)\n",
    "        \n",
    "        if inf > max_inf:\n",
    "            max_inf = inf\n",
    "            max_word = guess\n",
    "    \n",
    "    return max_word, max_inf"
   ]
  },
  {
   "cell_type": "markdown",
   "id": "aa521ab0",
   "metadata": {},
   "source": [
    "And the MIW is:"
   ]
  },
  {
   "cell_type": "code",
   "execution_count": 20,
   "id": "1aa4bc14",
   "metadata": {},
   "outputs": [
    {
     "name": "stderr",
     "output_type": "stream",
     "text": [
      "100%|███████████████████████████████████████████████████████████████| 4594/4594 [00:11<00:00, 389.71it/s]\n"
     ]
    },
    {
     "data": {
      "text/plain": [
       "('TARES', 6.217111890623548)"
      ]
     },
     "execution_count": 20,
     "metadata": {},
     "output_type": "execute_result"
    }
   ],
   "source": [
    "most_informative_word(words)"
   ]
  },
  {
   "cell_type": "code",
   "execution_count": 21,
   "id": "f4e188b5",
   "metadata": {},
   "outputs": [],
   "source": [
    "def least_informative_word(words):\n",
    "    min_inf = 10**10\n",
    "    min_word = \"\"\n",
    "\n",
    "    # for all the guess words\n",
    "    for guess in tqdm(words):\n",
    "        inf = word_information(guess, words)\n",
    "        \n",
    "        if inf < min_inf:\n",
    "            min_inf = inf\n",
    "            min_word = guess\n",
    "    \n",
    "    return min_word, min_inf"
   ]
  },
  {
   "cell_type": "markdown",
   "id": "bf7f6536",
   "metadata": {},
   "source": [
    "Just for sake of curiosity the LIW is:"
   ]
  },
  {
   "cell_type": "code",
   "execution_count": 22,
   "id": "8cff42c2",
   "metadata": {},
   "outputs": [
    {
     "name": "stderr",
     "output_type": "stream",
     "text": [
      "100%|███████████████████████████████████████████████████████████████| 4594/4594 [00:11<00:00, 389.77it/s]\n"
     ]
    },
    {
     "data": {
      "text/plain": [
       "('FUZZY', 2.1844580656481196)"
      ]
     },
     "execution_count": 22,
     "metadata": {},
     "output_type": "execute_result"
    }
   ],
   "source": [
    "least_informative_word(words)"
   ]
  },
  {
   "cell_type": "code",
   "execution_count": 23,
   "id": "ff2022f8",
   "metadata": {},
   "outputs": [
    {
     "data": {
      "text/plain": [
       "2.1844580656481196"
      ]
     },
     "execution_count": 23,
     "metadata": {},
     "output_type": "execute_result"
    }
   ],
   "source": [
    "word_information(\"FUZZY\", words)"
   ]
  },
  {
   "cell_type": "markdown",
   "id": "81ab570d",
   "metadata": {},
   "source": [
    "# Let's Play a Game"
   ]
  },
  {
   "cell_type": "markdown",
   "id": "3a967a89",
   "metadata": {},
   "source": [
    "We'll assume the hidden solution word:\n",
    "\n",
    "~~~\n",
    "VIDEO\n",
    "~~~\n",
    "\n",
    "Starting with:\n",
    "\n",
    "~~~\n",
    "TARES\n",
    "~~~\n",
    "\n",
    "We obtain:"
   ]
  },
  {
   "cell_type": "code",
   "execution_count": 24,
   "id": "eae5b909",
   "metadata": {},
   "outputs": [
    {
     "data": {
      "text/plain": [
       "'xxxgx'"
      ]
     },
     "execution_count": 24,
     "metadata": {},
     "output_type": "execute_result"
    }
   ],
   "source": [
    "compute_response(\"VIDEO\", \"TARES\")"
   ]
  },
  {
   "cell_type": "markdown",
   "id": "b283f06d",
   "metadata": {},
   "source": [
    "We can build a simple regex to filter all words not compatible with this clue:"
   ]
  },
  {
   "cell_type": "code",
   "execution_count": 25,
   "id": "4790445b",
   "metadata": {},
   "outputs": [],
   "source": [
    "def select(words, regex, yellows=\"\"):\n",
    "    # test:\n",
    "    # 1. if all letters in yellows are in the word\n",
    "    # 2. if the word match the regex\n",
    "    return list(filter(lambda w: not (set(yellows) - set(w)) and re.match(regex, w), words))"
   ]
  },
  {
   "cell_type": "markdown",
   "id": "27b2852a",
   "metadata": {},
   "source": [
    "The filtered list will help us find the next MIW:"
   ]
  },
  {
   "cell_type": "code",
   "execution_count": 26,
   "id": "b44c7584",
   "metadata": {},
   "outputs": [],
   "source": [
    "words2 = select(words, r\"[^ARST][^ARST][^ARST]E[^ARST]\")"
   ]
  },
  {
   "cell_type": "code",
   "execution_count": 27,
   "id": "3cd2c43e",
   "metadata": {},
   "outputs": [
    {
     "name": "stderr",
     "output_type": "stream",
     "text": [
      "100%|████████████████████████████████████████████████████████████████| 176/176 [00:00<00:00, 7960.63it/s]\n"
     ]
    },
    {
     "data": {
      "text/plain": [
       "('OLDEN', 0.33586599340984086)"
      ]
     },
     "execution_count": 27,
     "metadata": {},
     "output_type": "execute_result"
    }
   ],
   "source": [
    "most_informative_word(words2)"
   ]
  },
  {
   "cell_type": "code",
   "execution_count": 28,
   "id": "31b8c3a5",
   "metadata": {},
   "outputs": [
    {
     "data": {
      "text/plain": [
       "'yxggx'"
      ]
     },
     "execution_count": 28,
     "metadata": {},
     "output_type": "execute_result"
    }
   ],
   "source": [
    "compute_response(\"VIDEO\", \"OLDEN\")"
   ]
  },
  {
   "cell_type": "markdown",
   "id": "8417ca81",
   "metadata": {},
   "source": [
    "We repeat the same strategy:"
   ]
  },
  {
   "cell_type": "code",
   "execution_count": 29,
   "id": "159cf000",
   "metadata": {},
   "outputs": [
    {
     "name": "stderr",
     "output_type": "stream",
     "text": [
      "100%|███████████████████████████████████████████████████████████████████| 5/5 [00:00<00:00, 58743.75it/s]\n"
     ]
    },
    {
     "data": {
      "text/plain": [
       "('CODED', 0.013240678212209322)"
      ]
     },
     "execution_count": 29,
     "metadata": {},
     "output_type": "execute_result"
    }
   ],
   "source": [
    "words3 = select(words2, r\"[^ALNORST][^ALNRST]DE[^ALNRST]\", \"O\")\n",
    "most_informative_word(words3)"
   ]
  },
  {
   "cell_type": "code",
   "execution_count": 30,
   "id": "7f26d0fa",
   "metadata": {},
   "outputs": [
    {
     "data": {
      "text/plain": [
       "'xyggy'"
      ]
     },
     "execution_count": 30,
     "metadata": {},
     "output_type": "execute_result"
    }
   ],
   "source": [
    "compute_response(\"VIDEO\", \"CODED\")"
   ]
  },
  {
   "cell_type": "markdown",
   "id": "11d043fc",
   "metadata": {},
   "source": [
    "And again..."
   ]
  },
  {
   "cell_type": "code",
   "execution_count": 31,
   "id": "684d4d65",
   "metadata": {},
   "outputs": [
    {
     "name": "stderr",
     "output_type": "stream",
     "text": [
      "100%|███████████████████████████████████████████████████████████████████| 1/1 [00:00<00:00, 20460.02it/s]\n"
     ]
    },
    {
     "data": {
      "text/plain": [
       "('VIDEO', 0.0026481356424418643)"
      ]
     },
     "execution_count": 31,
     "metadata": {},
     "output_type": "execute_result"
    }
   ],
   "source": [
    "words4 = select(words3, r\"[^ACDLNORST][^ACDLNORST]DE[^ACDLNRST]\", \"OD\")\n",
    "most_informative_word(words4)"
   ]
  },
  {
   "cell_type": "code",
   "execution_count": 32,
   "id": "8310959a",
   "metadata": {},
   "outputs": [
    {
     "data": {
      "text/plain": [
       "'ggggg'"
      ]
     },
     "execution_count": 32,
     "metadata": {},
     "output_type": "execute_result"
    }
   ],
   "source": [
    "compute_response(\"VIDEO\", \"VIDEO\")"
   ]
  },
  {
   "cell_type": "markdown",
   "id": "5158803c",
   "metadata": {},
   "source": [
    "Tcham!!"
   ]
  },
  {
   "cell_type": "markdown",
   "id": "b6d5f2f1",
   "metadata": {},
   "source": [
    "# More "
   ]
  }
 ],
 "metadata": {
  "kernelspec": {
   "display_name": "ds",
   "language": "python",
   "name": "ds"
  },
  "language_info": {
   "codemirror_mode": {
    "name": "ipython",
    "version": 3
   },
   "file_extension": ".py",
   "mimetype": "text/x-python",
   "name": "python",
   "nbconvert_exporter": "python",
   "pygments_lexer": "ipython3",
   "version": "3.8.10"
  }
 },
 "nbformat": 4,
 "nbformat_minor": 5
}
